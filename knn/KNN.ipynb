{
 "cells": [
  {
   "cell_type": "code",
   "execution_count": 326,
   "metadata": {},
   "outputs": [
    {
     "name": "stdout",
     "output_type": "stream",
     "text": [
      "Populating the interactive namespace from numpy and matplotlib\n"
     ]
    }
   ],
   "source": [
    "import pandas as pd\n",
    "%pylab inline\n",
    "import matplotlib.pylab as plt\n",
    "import numpy as np"
   ]
  },
  {
   "cell_type": "code",
   "execution_count": 327,
   "metadata": {},
   "outputs": [],
   "source": [
    "df_adv = pd.read_csv('/Users/mike/master/AI-HUB-ML-master/Data/Advertising.csv') # Read data"
   ]
  },
  {
   "cell_type": "code",
   "execution_count": 328,
   "metadata": {},
   "outputs": [],
   "source": [
    "data_x = df_adv.TV[0:] # Get the TV budget\n",
    "data_y = df_adv.sales[0:] # Get the sales"
   ]
  },
  {
   "cell_type": "code",
   "execution_count": 329,
   "metadata": {},
   "outputs": [],
   "source": [
    "# Sort the array and get the values\n",
    "idx = np.argsort(data_x).values\n",
    "\n",
    "# Reorder the x and y data frames\n",
    "data_x  = data_x.iloc[idx]"
   ]
  },
  {
   "cell_type": "code",
   "execution_count": 330,
   "metadata": {},
   "outputs": [],
   "source": [
    "def find_nearest(array, xi):\n",
    "    distance = array.copy()\n",
    "    for i in range(len(array)):\n",
    "        # Get the distdata frames\n",
    "        distance.iloc[i] = abs(array.iloc[i] - xi)\n",
    "        \n",
    "    # Sort the dist data frames\n",
    "    idx_dis = np.argsort(distance).values\n",
    "    distance = distance.iloc[idx_dis]\n",
    "        \n",
    "    return distance"
   ]
  },
  {
   "cell_type": "code",
   "execution_count": 331,
   "metadata": {},
   "outputs": [],
   "source": [
    "check_point = np.random.randint(0,290,8)\n",
    "df_predict = pd.DataFrame(np.zeros((8,2)) * 0,columns=['x', 'y'])\n",
    "for i in range(len(check_point)):\n",
    "    get_dis = find_nearest(data_x,check_point[i])\n",
    "    get_index = get_dis.index.values[0:3]\n",
    "    get_value = np.array([data_y.iloc[get_index[0]], data_y.iloc[get_index[1]], data_y.iloc[get_index[2]]])\n",
    "    \n",
    "    df_predict.iloc[i][0] = check_point[i]\n",
    "    df_predict.iloc[i][1] = get_value.sum()/3\n",
    "df_predict = df_predict.sort_values(by = 'x')\n",
    "pre_x = df_predict.x[0:]\n",
    "pre_y = df_predict.y[0:]"
   ]
  },
  {
   "cell_type": "code",
   "execution_count": 332,
   "metadata": {},
   "outputs": [
    {
     "data": {
      "image/png": "[encoded data removed]",
      "text/plain": [
       "<Figure size 432x288 with 1 Axes>"
      ]
     },
     "metadata": {
      "needs_background": "light"
     },
     "output_type": "display_data"
    }
   ],
   "source": [
    "plt.plot(pre_x.values,pre_y.values, '-.') # Basic plotting with a dash-dot line\n",
    "plt.plot(df_adv.TV[5:13], df_adv.sales[5:13], 'kx') # Plot the data points (black x markers)\n",
    "plt.title('') # Leave title blank\n",
    "plt.xlabel('TV budget in $1000') # Label the x-axis\n",
    "plt.ylabel('Sales in $1000') # Label the y-axis\n",
    "\n",
    "plt.savefig('nearest-neighbor.png',dpi=300) # save the figure"
   ]
  },
  {
   "cell_type": "code",
   "execution_count": null,
   "metadata": {},
   "outputs": [],
   "source": []
  },
  {
   "cell_type": "code",
   "execution_count": null,
   "metadata": {},
   "outputs": [],
   "source": []
  }
 ],
 "metadata": {
  "kernelspec": {
   "display_name": "Python 3",
   "language": "python",
   "name": "python3"
  },
  "language_info": {
   "codemirror_mode": {
    "name": "ipython",
    "version": 3
   },
   "file_extension": ".py",
   "mimetype": "text/x-python",
   "name": "python",
   "nbconvert_exporter": "python",
   "pygments_lexer": "ipython3",
   "version": "3.7.1"
  }
 },
 "nbformat": 4,
 "nbformat_minor": 2
}
