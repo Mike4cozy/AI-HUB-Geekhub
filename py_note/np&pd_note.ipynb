{
 "cells": [
  {
   "cell_type": "code",
   "execution_count": 123,
   "metadata": {},
   "outputs": [],
   "source": [
    "import numpy as np\n",
    "import pandas as pd\n",
    "import matplotlib.pyplot as plt\n",
    "# np like 列表，pd like 字典\n",
    "array = np.array([[1, 2, 3],[2,3,4]])"
   ]
  },
  {
   "cell_type": "code",
   "execution_count": 48,
   "metadata": {
    "collapsed": true
   },
   "outputs": [
    {
     "name": "stdout",
     "output_type": "stream",
     "text": [
      "#######  2-1 numpy属性\n",
      "[[1 2 3]\n",
      " [2 3 4]]\n",
      "number of dim: 2\n",
      "shape: (2, 3)\n",
      "size: 6\n",
      "\n",
      "\n"
     ]
    }
   ],
   "source": [
    "######2-1 numpy属性\n",
    "print('#######  2-1 numpy属性')\n",
    "print(array)\n",
    "print('number of dim:', array.ndim) # 几维，秩\n",
    "print('shape:', array.shape) # 几行几列\n",
    "print('size:', array.size) # 大小\n",
    "\n",
    "\n",
    "print('\\n')"
   ]
  },
  {
   "cell_type": "code",
   "execution_count": 49,
   "metadata": {
    "collapsed": true
   },
   "outputs": [
    {
     "name": "stdout",
     "output_type": "stream",
     "text": [
      "#######  2-2 numpy创建array\n",
      "\n",
      "\n"
     ]
    }
   ],
   "source": [
    "######2-2 numpy创建array\n",
    "print('#######  2-2 numpy创建array')\n",
    "a = np.array([2,23,4], dtype=np.int) # 基本创建， 除了int 还有float16/32/64 int32\n",
    "b = np.array([[2,23,4], [2,32,4]]) # 生成矩阵\n",
    "c = np.zeros((3,4), dtype = np.int16) # 3 line, 4 row的 0\n",
    "d = np.empty((3,4)) #estabilish data close to the 0\n",
    "\n",
    "e = np.arange(10,20,2) # 10~20, +2\n",
    "f = np.arange(12).reshape(3,4) # max = 12 - 1, from 0 to 11\n",
    "\n",
    "g = np.linspace(1, 10, 6) # from 1 to 10, equally divided into 6 parts\n",
    "h = np.linspace(1, 10, 6).reshape((2,3)) # reshape the linspace to 2 line and 3 rows\n",
    "\n",
    "\n",
    "print('\\n')"
   ]
  },
  {
   "cell_type": "code",
   "execution_count": 50,
   "metadata": {
    "collapsed": true
   },
   "outputs": [
    {
     "name": "stdout",
     "output_type": "stream",
     "text": [
      "#######  2-3 numpy基础运算\n",
      "[False  True  True  True]\n",
      "[[1 2 3]\n",
      " [2 3 4]]\n",
      "(4, 3)\n",
      "[[1 2 3]\n",
      " [2 3 4]\n",
      " [1 2 3]\n",
      " [2 3 4]]\n"
     ]
    }
   ],
   "source": [
    "######2-3 numpy基础运算\n",
    "print('#######  2-3 numpy基础运算')\n",
    "a3 = np.array([10,20,30,40])\n",
    "b3 = np.arange(4) # 0~3\n",
    "\n",
    "c3 = a3 - b3 # subtraction\n",
    "c3 = b3**2 # square\n",
    "c3 = 10*np.sin(a) #cos & tan ..\n",
    "\n",
    "print(a3>15) #display true or false\n",
    "\n",
    "d3 = np.array([[1,1], #matrix\n",
    "              [0,1]])\n",
    "e3 = np.arange(4).reshape((2,2))\n",
    "f3 = d3*e3 \n",
    "f3_dot = np.dot(d3,e3) #the reasult of matrix, 矩阵的乘法\n",
    "f3_dot_2 = d3.dot(e3) #study from b3 ,the same = np.dot(d3, e3)\n",
    "\n",
    "g3 = np.random.random((2,4)) #随机生成 2行4列, range(0,1)\n",
    "                            # np.sum(a), np.min(a), np.max(a)\n",
    "                            # np.sum(a, axis =1)   ps: axis = 1行, axis = 0列\n",
    "\n",
    "#method of generate random values\n",
    "a = np.random.randint(0,10,100) # 100个 0~10\n",
    "b = np.random.rand(40) #0~1的均匀分布 Evenly distributed\n",
    "c = np.random.randn(10) #标准正态分布 Standard normal distribution\n",
    "d = np.random.normal(0,1,100) #生成指定正态分布\n",
    "e = np.random.random(20) #0~1的均匀分布\n",
    "f = np.random.ranf(20) #0~1的均匀分布\n",
    "g = np.random.uniform(-1,1,100) #指定均匀分布\n",
    "\n",
    "#增加一行或一列\n",
    "print(array)\n",
    "array1 = np.append(array,array,axis = 0) # axis = 0增加一行，axis = 1增加一列\n",
    "array = np.row_stack((array,array))"
   ]
  },
  {
   "cell_type": "code",
   "execution_count": 51,
   "metadata": {
    "collapsed": true
   },
   "outputs": [
    {
     "name": "stdout",
     "output_type": "stream",
     "text": [
      "#######  2-4 numpy基础运算2\n",
      "[[ 2  3  4  5]\n",
      " [ 6  7  8  9]\n",
      " [10 11 12 13]]\n",
      "[6. 7. 8. 9.]\n"
     ]
    },
    {
     "data": {
      "text/plain": [
       "array([[5, 5, 5, 5],\n",
       "       [6, 7, 8, 9],\n",
       "       [9, 9, 9, 9]])"
      ]
     },
     "execution_count": 51,
     "metadata": {},
     "output_type": "execute_result"
    }
   ],
   "source": [
    "######2-4 numpy基础运算2\n",
    "print('#######  2-4 numpy基础运算2')\n",
    "A = np.arange(2,14).reshape((3,4)) #2~14, 3lines 4rows\n",
    "print(A)\n",
    "np.argmin(A) # min\n",
    "np.argmax(A) # max\n",
    "np.mean(A) #mean\n",
    "print(np.mean(A, axis = 0)) # 0列1行\n",
    "\n",
    "\n",
    "np.median(A) #中位数\n",
    "np.cumsum(A) #逐渐相加, 位数和原矩阵位数相同\n",
    "np.diff(A) #两个数的差\n",
    "np.nonzero(A) #输出非0的数，注意两个array, one for column, one for row\n",
    "np.sort(A) # 排序\n",
    "\n",
    "np.transpose(A) #矩阵转置\n",
    "A.T\n",
    "np.clip(A, 5, 9) #<5 -> 5, >9 -> 9, 5<x<9 keep"
   ]
  },
  {
   "cell_type": "code",
   "execution_count": 8,
   "metadata": {
    "collapsed": true
   },
   "outputs": [
    {
     "name": "stdout",
     "output_type": "stream",
     "text": [
      "#######  2-5 numpy索引\n",
      "12\n",
      "12\n",
      "[11 12 13 14]\n",
      "[3 4 5 6]\n",
      "[ 7  8  9 10]\n",
      "[11 12 13 14]\n",
      "[ 3  7 11]\n",
      "[ 4  8 12]\n",
      "[ 5  9 13]\n",
      "[ 6 10 14]\n",
      "3\n",
      "4\n",
      "5\n",
      "6\n",
      "7\n",
      "8\n",
      "9\n",
      "10\n",
      "11\n",
      "12\n",
      "13\n",
      "14\n"
     ]
    }
   ],
   "source": [
    "######2-5 numpy索引\n",
    "print('#######  2-5 numpy索引')\n",
    "B = np.arange(3,15).reshape((3,4))\n",
    "print(B[2][1]) #02行01列\n",
    "print(B[2,1]) #同上\n",
    "print(B[2,:]) #第2行的所有数\n",
    "\n",
    "for row in B:\n",
    "    print(row)\n",
    "for column in B.T:\n",
    "    print(column) \n",
    "B.flatten #将序列转变为一行\n",
    "for item in B.flat: #打印每一个数\n",
    "    print(item)"
   ]
  },
  {
   "cell_type": "code",
   "execution_count": 9,
   "metadata": {
    "collapsed": true
   },
   "outputs": [
    {
     "name": "stdout",
     "output_type": "stream",
     "text": [
      "#######  2-6 numpy array合并\n",
      "[[1 1 1]]\n",
      "[[2]\n",
      " [2]\n",
      " [2]]\n",
      "[1 1 1 2 2 2 2 2 2 1 1 1]\n"
     ]
    }
   ],
   "source": [
    "print('#######  2-6 numpy array合并')\n",
    "C = np.array([1,1,1])\n",
    "D = np.array([2,2,2])\n",
    "np.vstack((A,B)) #vertical 将CD合并 C是0行，D是1行  ps:同样支持多个合并\n",
    "np.hstack((A,B))# horizontal 左右合并\n",
    "\n",
    "print(C[np.newaxis,:]) #在行上加一个维度，\n",
    "print(D[:,np.newaxis]) #在列上加一个维度，将行变为列\n",
    "E = np.concatenate((C,D,D,C), axis = 0) #多个合并\n",
    "print(E)\n"
   ]
  },
  {
   "cell_type": "code",
   "execution_count": 10,
   "metadata": {
    "collapsed": true
   },
   "outputs": [
    {
     "name": "stdout",
     "output_type": "stream",
     "text": [
      "######   2-7 numpy的array 分割\n",
      "[[ 0  1  2  3]\n",
      " [ 4  5  6  7]\n",
      " [ 8  9 10 11]]\n",
      "[array([[0, 1, 2, 3]]), array([[4, 5, 6, 7]]), array([[ 8,  9, 10, 11]])]\n",
      "[array([[0, 1],\n",
      "       [4, 5],\n",
      "       [8, 9]]), array([[ 2],\n",
      "       [ 6],\n",
      "       [10]]), array([[ 3],\n",
      "       [ 7],\n",
      "       [11]])]\n",
      "\n",
      "\n",
      "[array([[0, 1, 2, 3]]), array([[4, 5, 6, 7]]), array([[ 8,  9, 10, 11]])]\n",
      "[array([[0, 1],\n",
      "       [4, 5],\n",
      "       [8, 9]]), array([[ 2,  3],\n",
      "       [ 6,  7],\n",
      "       [10, 11]])]\n",
      "\n",
      "\n"
     ]
    }
   ],
   "source": [
    "######2-7 numpy的array 分割\n",
    "print('######   2-7 numpy的array 分割')\n",
    "F = np.arange(12).reshape(3,4)\n",
    "print(F)\n",
    "print(np.split(F, 3, axis = 0)) # 相等的分割，横向分割成3块\n",
    "print(np.array_split(F, 3, axis = 1)) # 不等的分割\n",
    "print('\\n')\n",
    "print(np.vsplit(F,3)) #纵向分割\n",
    "print(np.hsplit(F,2)) #横向分割\n"
   ]
  },
  {
   "cell_type": "code",
   "execution_count": 11,
   "metadata": {
    "collapsed": true
   },
   "outputs": [
    {
     "name": "stdout",
     "output_type": "stream",
     "text": [
      "######2-8 numpy copy&deep copy\n",
      "[0 1 2 3]\n",
      "True\n",
      "True\n",
      "[11 22 33  3]\n",
      "\n",
      "\n"
     ]
    }
   ],
   "source": [
    "######2-8 numpy copy&deep copy\n",
    "print('######2-8 numpy copy&deep copy')\n",
    "a = np.arange(4)\n",
    "print(a)\n",
    "b = a\n",
    "c = a\n",
    "d = b\n",
    "\n",
    "a[0] = 11\n",
    "print(b is a)\n",
    "print(d is a)\n",
    "d[1:3] = [22,33]\n",
    "print(a)\n",
    "\n",
    "b = a.copy() #deep copy, 并不会关联a \n",
    "      \n",
    "print('\\n')"
   ]
  },
  {
   "cell_type": "code",
   "execution_count": 12,
   "metadata": {
    "collapsed": true
   },
   "outputs": [
    {
     "name": "stdout",
     "output_type": "stream",
     "text": [
      "######3-1 pandas基本介绍\n",
      "0     1.0\n",
      "1     3.0\n",
      "2     6.0\n",
      "3     NaN\n",
      "4    44.0\n",
      "5     1.0\n",
      "dtype: float64\n",
      "DatetimeIndex(['2019-07-03', '2019-07-04', '2019-07-05', '2019-07-06',\n",
      "               '2019-07-07', '2019-07-08'],\n",
      "              dtype='datetime64[ns]', freq='D')\n",
      "                   a         b         c         d\n",
      "2019-07-03 -0.660256 -0.761120  0.219605 -0.240582\n",
      "2019-07-04 -1.166963  0.030847 -1.185866  0.384474\n",
      "2019-07-05 -0.176607 -1.290446 -0.062364  0.977535\n",
      "2019-07-06  1.078823 -0.479043 -1.262538  0.361436\n",
      "2019-07-07  0.777934  0.637956  0.487583 -0.141231\n",
      "2019-07-08 -0.655667 -0.262504  0.005655 -0.009729\n",
      "   0  1   2   3\n",
      "0  0  1   2   3\n",
      "1  4  5   6   7\n",
      "2  8  9  10  11\n",
      "         0    1     2     3\n",
      "count  3.0  3.0   3.0   3.0\n",
      "mean   4.0  5.0   6.0   7.0\n",
      "std    4.0  4.0   4.0   4.0\n",
      "min    0.0  1.0   2.0   3.0\n",
      "25%    2.0  3.0   4.0   5.0\n",
      "50%    4.0  5.0   6.0   7.0\n",
      "75%    6.0  7.0   8.0   9.0\n",
      "max    8.0  9.0  10.0  11.0\n",
      "    3   2  1  0\n",
      "0   3   2  1  0\n",
      "1   7   6  5  4\n",
      "2  11  10  9  8\n",
      "   0  1   2\n",
      "0  0  4   8\n",
      "1  1  5   9\n",
      "2  2  6  10\n",
      "3  3  7  11\n",
      "   0  1   2\n",
      "0  0  4   8\n",
      "1  1  5   9\n",
      "2  2  6  10\n",
      "3  3  7  11\n"
     ]
    }
   ],
   "source": [
    "######3-1 pandas基本介绍\n",
    "print('######3-1 pandas基本介绍')\n",
    "s = pd.Series([1,3,6,np.nan,44,1])\n",
    "print(s)\n",
    "dates = pd.date_range('20190703',periods = 6)\n",
    "print(dates)\n",
    "df = pd.DataFrame(np.random.randn(6,4),index = dates, columns=['a','b','c','d'])\n",
    "print(df)\n",
    "df1 = pd.DataFrame(np.arange(12).reshape(3,4))\n",
    "print(df1)\n",
    "print(df1.describe())\n",
    "#index\n",
    "print(df1.sort_index(axis = 1, ascending = False)) #根据列的名称，倒的序列\n",
    "df1_t = df1.T #转置\n",
    "print(df1_t)\n",
    "#values\n",
    "print(df1_t.sort_values(by=2)) #对哪个列进行排序 by = 列名称排序"
   ]
  },
  {
   "cell_type": "code",
   "execution_count": 53,
   "metadata": {
    "collapsed": true
   },
   "outputs": [
    {
     "name": "stdout",
     "output_type": "stream",
     "text": [
      "###### 3-2 pandas选择数据\n",
      "             A   B   C   D\n",
      "2019-01-01   0   1   2   3\n",
      "2019-01-02   4   5   6   7\n",
      "2019-01-03   8   9  10  11\n",
      "2019-01-04  12  13  14  15\n",
      "2019-01-05  16  17  18  19\n",
      "2019-01-06  20  21  22  23\n",
      "2019-01-01     0\n",
      "2019-01-02     4\n",
      "2019-01-03     8\n",
      "2019-01-04    12\n",
      "2019-01-05    16\n",
      "2019-01-06    20\n",
      "Freq: D, Name: A, dtype: int64 2019-01-01     0\n",
      "2019-01-02     4\n",
      "2019-01-03     8\n",
      "2019-01-04    12\n",
      "2019-01-05    16\n",
      "2019-01-06    20\n",
      "Freq: D, Name: A, dtype: int64\n",
      "            A  B   C   D\n",
      "2019-01-01  0  1   2   3\n",
      "2019-01-02  4  5   6   7\n",
      "2019-01-03  8  9  10  11              A   B   C   D\n",
      "2019-01-01   0   1   2   3\n",
      "2019-01-02   4   5   6   7\n",
      "2019-01-03   8   9  10  11\n",
      "2019-01-04  12  13  14  15\n",
      "A    4\n",
      "B    5\n",
      "C    6\n",
      "D    7\n",
      "Name: 2019-01-02 00:00:00, dtype: int64\n",
      "             A   B\n",
      "2019-01-01   0   1\n",
      "2019-01-02   4   5\n",
      "2019-01-03   8   9\n",
      "2019-01-04  12  13\n",
      "2019-01-05  16  17\n",
      "2019-01-06  20  21\n",
      "             B   C\n",
      "2019-01-04  13  14\n",
      "2019-01-05  17  18\n",
      "13\n",
      "             B   C\n",
      "2019-01-02   5   6\n",
      "2019-01-04  13  14\n",
      "2019-01-06  21  22\n",
      "             A   B   C   D\n",
      "2019-01-04  12  13  14  15\n",
      "2019-01-05  16  17  18  19\n",
      "2019-01-06  20  21  22  23\n",
      "<class 'pandas.core.frame.DataFrame'>\n"
     ]
    }
   ],
   "source": [
    "###### 3-2 pandas选择数据\n",
    "print('###### 3-2 pandas选择数据')\n",
    "dates = pd.date_range('20190101',periods = 6)\n",
    "df = pd.DataFrame(np.arange(24).reshape(6,4), index = dates, columns=['A','B','C','D'])\n",
    "print(df)\n",
    "print(df['A'],df.A) #一模一样的功能\n",
    "print(df[0:3], df['20190101':'20190104']) #前面是选择 0-2 行的数据，后面的是根据索引选择\n",
    "\n",
    "#select by label:loc\n",
    "print(df.loc['20190102'])\n",
    "print(df.loc[:, ['A','B']])\n",
    "\n",
    "#select by position:iloc\n",
    "print(df.iloc[3:5,1:3]) #根据位置，第3行到第5行，1列到3列\n",
    "print(df.iloc[3,1]) #3行1列\n",
    "print(df.iloc[[1,3,5], 1:3])\n",
    "\n",
    "# boolean indexing\n",
    "print(df[df.A>8]) #A中选择大于8的部分，然后映射到整个\n",
    "print(type(df))\n"
   ]
  },
  {
   "cell_type": "code",
   "execution_count": 14,
   "metadata": {
    "collapsed": true
   },
   "outputs": [
    {
     "name": "stdout",
     "output_type": "stream",
     "text": [
      "###### 3-3 pandas 设置值\n",
      "             A   B     C   D\n",
      "2019-01-01   0   1     2   3\n",
      "2019-01-02   4   5     6   7\n",
      "2019-01-03   8   9  1111  11\n",
      "2019-01-04  12  13    14  15\n",
      "2019-01-05  16  17    18  19\n",
      "2019-01-06  20  21    22  23\n",
      "               A   B     C   D\n",
      "2019-01-01     0   1     2   3\n",
      "2019-01-02  2222   5     6   7\n",
      "2019-01-03     8   9  1111  11\n",
      "2019-01-04    12  13    14  15\n",
      "2019-01-05    16  17    18  19\n",
      "2019-01-06    20  21    22  23\n",
      "             A   B     C   D   F  E\n",
      "2019-01-01   0   1     2   3 NaN  1\n",
      "2019-01-02   0   5     6   7 NaN  2\n",
      "2019-01-03   8   9  1111  11 NaN  3\n",
      "2019-01-04  12  13    14  15 NaN  4\n",
      "2019-01-05   0  17    18  19 NaN  5\n",
      "2019-01-06   0  21    22  23 NaN  6\n"
     ]
    }
   ],
   "source": [
    "###### 3-3 pandas 设置值\n",
    "print('###### 3-3 pandas 设置值')\n",
    "df.iloc[2,2] = 1111 #改变其中的一个值.\n",
    "print(df)\n",
    "df.loc['20190102', 'A'] = 2222\n",
    "print(df)\n",
    "df.A[df.A>12] = 0\n",
    "df['F'] = np.nan # F这一列全为NULL\n",
    "df['E'] = pd.Series([1,2,3,4,5,6],index = pd.date_range('20190101',periods = 6)) #新增一行\n",
    "print(df)"
   ]
  },
  {
   "cell_type": "code",
   "execution_count": 66,
   "metadata": {
    "collapsed": true
   },
   "outputs": [
    {
     "name": "stdout",
     "output_type": "stream",
     "text": [
      "             A     B     C   D\n",
      "2019-01-03   8   9.0  10.0  11\n",
      "2019-01-04  12  13.0  14.0  15\n",
      "2019-01-05  16  17.0  18.0  19\n",
      "2019-01-06  20  21.0  22.0  23\n",
      "             A   D\n",
      "2019-01-01   0   3\n",
      "2019-01-02   4   7\n",
      "2019-01-03   8  11\n",
      "2019-01-04  12  15\n",
      "2019-01-05  16  19\n",
      "2019-01-06  20  23\n",
      "             A     B     C   D\n",
      "2019-01-01   0   0.0   2.0   3\n",
      "2019-01-02   4   5.0   0.0   7\n",
      "2019-01-03   8   9.0  10.0  11\n",
      "2019-01-04  12  13.0  14.0  15\n",
      "2019-01-05  16  17.0  18.0  19\n",
      "2019-01-06  20  21.0  22.0  23\n",
      "                A      B      C      D\n",
      "2019-01-01  False   True  False  False\n",
      "2019-01-02  False  False   True  False\n",
      "2019-01-03  False  False  False  False\n",
      "2019-01-04  False  False  False  False\n",
      "2019-01-05  False  False  False  False\n",
      "2019-01-06  False  False  False  False\n",
      "True\n"
     ]
    }
   ],
   "source": [
    "####### 3-4 pandas 处理丢失数据\n",
    "dates1 = pd.date_range('20190101', periods = 6)\n",
    "df = pd.DataFrame(np.arange(24).reshape((6,4)), index = dates1, columns = ['A', 'B', 'C', 'D'])\n",
    "df.iloc[0, 1] = np.nan\n",
    "df.iloc[1 ,2] = np.nan #赋值为null\n",
    "print(df.dropna(axis = 0, how = 'any')) # how = {'any'(default), 'all'}\n",
    "print(df.dropna(axis = 1, how = 'any')) # how = {'any'(default), 'all'} any 就是其中一个有null就移除，all 就是全部是null才移除\n",
    "\n",
    "print(df.fillna(value = 0)) # 填充为0\n",
    "print(df.isnull())\n",
    "print(np.any(df.isnull()) == True) // 这里面至少有一个 == True 就确定了有null存在"
   ]
  },
  {
   "cell_type": "code",
   "execution_count": 71,
   "metadata": {},
   "outputs": [],
   "source": [
    "###### 3-5 pandas 导入导出\n",
    "# read_csv excel hdf sql json magpack(experimental) html gbq(ex) stata sas clipboard pickle\n",
    "# to_csv excel hdf sql json magpack(experimental) html gbq(ex) stata sas clipboard pickle\n",
    "df = pd.read_csv('/Users/mike/master/AI-HUB-ML-master/Data/winequality-red.csv', ';')\n",
    "df.to_csv('/Users/mike/master/AI-HUB-ML-master/winequality-red.csv')"
   ]
  },
  {
   "cell_type": "code",
   "execution_count": 94,
   "metadata": {
    "collapsed": true
   },
   "outputs": [
    {
     "name": "stdout",
     "output_type": "stream",
     "text": [
      "     a    b    c    d\n",
      "0  0.0  0.0  0.0  0.0\n",
      "1  0.0  0.0  0.0  0.0\n",
      "2  0.0  0.0  0.0  0.0\n",
      "     a    b    c    d\n",
      "0  1.0  1.0  1.0  1.0\n",
      "1  1.0  1.0  1.0  1.0\n",
      "2  1.0  1.0  1.0  1.0\n",
      "     a    b    c    d\n",
      "0  2.0  2.0  2.0  2.0\n",
      "1  2.0  2.0  2.0  2.0\n",
      "2  2.0  2.0  2.0  2.0\n",
      "     a    b    c    d\n",
      "0  0.0  0.0  0.0  0.0\n",
      "1  0.0  0.0  0.0  0.0\n",
      "2  0.0  0.0  0.0  0.0\n",
      "3  1.0  1.0  1.0  1.0\n",
      "4  1.0  1.0  1.0  1.0\n",
      "5  1.0  1.0  1.0  1.0\n",
      "6  2.0  2.0  2.0  2.0\n",
      "7  2.0  2.0  2.0  2.0\n",
      "8  2.0  2.0  2.0  2.0\n",
      "     a    b    c    d\n",
      "1  0.0  0.0  0.0  0.0\n",
      "2  0.0  0.0  0.0  0.0\n",
      "3  0.0  0.0  0.0  0.0\n",
      "     b    c    d    e\n",
      "2  1.0  1.0  1.0  1.0\n",
      "3  1.0  1.0  1.0  1.0\n",
      "4  1.0  1.0  1.0  1.0\n",
      " Here u are\n",
      "     a    b    c    d    e\n",
      "1  0.0  0.0  0.0  0.0  NaN\n",
      "2  0.0  0.0  0.0  0.0  NaN\n",
      "3  0.0  0.0  0.0  0.0  NaN\n",
      "2  NaN  1.0  1.0  1.0  1.0\n",
      "3  NaN  1.0  1.0  1.0  1.0\n",
      "4  NaN  1.0  1.0  1.0  1.0\n",
      "     b    c    d\n",
      "1  0.0  0.0  0.0\n",
      "2  0.0  0.0  0.0\n",
      "3  0.0  0.0  0.0\n",
      "2  1.0  1.0  1.0\n",
      "3  1.0  1.0  1.0\n",
      "4  1.0  1.0  1.0\n",
      "     a    b    c    d    b    c    d    e\n",
      "1  0.0  0.0  0.0  0.0  NaN  NaN  NaN  NaN\n",
      "2  0.0  0.0  0.0  0.0  1.0  1.0  1.0  1.0\n",
      "3  0.0  0.0  0.0  0.0  1.0  1.0  1.0  1.0\n"
     ]
    }
   ],
   "source": [
    "###### 3-6 合并concat\n",
    "#concatenating\n",
    "df1 = pd.DataFrame(np.ones((3, 4))*0, columns= ['a', 'b', 'c', 'd'])\n",
    "df2 = pd.DataFrame(np.ones((3, 4))*1, columns= ['a', 'b', 'c', 'd'])\n",
    "df3 = pd.DataFrame(np.ones((3, 4))*2, columns= ['a', 'b', 'c', 'd'])\n",
    "print(df1)\n",
    "print(df2)\n",
    "print(df3)\n",
    "res = pd.concat([df1, df2, df3], axis = 0, ignore_index = True)# axis = 0, 竖向合并, axis = 1, 横向合并 \n",
    "print(res)\n",
    "\n",
    "# join,['inner', 'outer']\n",
    "df1 = pd.DataFrame(np.ones((3, 4))*0, columns= ['a', 'b', 'c', 'd'], index = [1,2,3])\n",
    "df2 = pd.DataFrame(np.ones((3, 4))*1, columns= ['b', 'c', 'd', 'e'], index = [2,3,4])\n",
    "print(df1)\n",
    "print(df2)\n",
    "print(' Here u are')\n",
    "res = pd.concat([df1, df2], join = 'outer', sort = True)# join = 'outer' (default)  并集\n",
    "res2 = pd.concat([df1, df2], join = 'inner', sort = True)#交集\n",
    "print(res)\n",
    "print(res2)\n",
    "\n",
    "res3 = pd.concat([df1, df2], axis = 1, join_axes = [df1.index], sort = True) # 左右合并 按照df1.index进行合并，没有的就null 填充\n",
    "print(res3)\n",
    "\n",
    "res3 = df1.append(df2, ignore_index = True, sort = True) # 竖向加数据"
   ]
  },
  {
   "cell_type": "code",
   "execution_count": 131,
   "metadata": {
    "collapsed": true
   },
   "outputs": [
    {
     "name": "stdout",
     "output_type": "stream",
     "text": [
      "  key   A   B\n",
      "0  K0  A0  B0\n",
      "1  K1  A1  B1\n",
      "2  K2  A2  B2\n",
      "3  K3  A3  B3\n",
      "  key   A   B   C   D\n",
      "0  K0  A0  B0  C0  D0\n",
      "1  K1  A1  B1  C1  D1\n",
      "2  K2  A2  B2  C2  D2\n",
      "3  K3  A3  B3  C3  D3\n",
      "  key1 key2   A   B\n",
      "0   K0   K0  A0  B0\n",
      "1   K0   K1  A1  B1\n",
      "2   K1   K0  A2  B2\n",
      "3   K2   K1  A3  B3\n",
      "  key1 key2   C   D\n",
      "0   K0   K0  C0  D0\n",
      "1   K1   K0  C1  D1\n",
      "2   K1   K0  C2  D2\n",
      "3   K2   K0  C3  D3\n",
      "  key1 key2   A   B   C   D\n",
      "0   K0   K0  A0  B0  C0  D0\n",
      "1   K1   K0  A2  B2  C1  D1\n",
      "2   K1   K0  A2  B2  C2  D2\n",
      "\n",
      "  indicator\n",
      "   col1 col_left\n",
      "0     0        a\n",
      "1     1        b\n",
      "   col1  col_right\n",
      "0     1          2\n",
      "1     2          2\n",
      "2     2          2\n",
      "   col1 col_left  col_right      _merge\n",
      "0     0        a        NaN   left_only\n",
      "1     1        b        2.0        both\n",
      "2     2      NaN        2.0  right_only\n",
      "3     2      NaN        2.0  right_only\n",
      "\n",
      "\n",
      "merged by index\n",
      "     A   B\n",
      "K0  A0  B0\n",
      "K1  A1  B1\n",
      "K2  A2  B2\n",
      "     C   D\n",
      "K0  C0  D0\n",
      "K2  C2  D2\n",
      "K3  C3  D3\n",
      "      A    B    C    D\n",
      "K0   A0   B0   C0   D0\n",
      "K1   A1   B1  NaN  NaN\n",
      "K2   A2   B2   C2   D2\n",
      "K3  NaN  NaN   C3   D3\n",
      "     A   B   C   D\n",
      "K0  A0  B0  C0  D0\n",
      "K2  A2  B2  C2  D2\n",
      "\n",
      " handle overlapping\n",
      "    k  age\n",
      "0  K0    1\n",
      "1  K1    2\n",
      "2  K2    3\n",
      "    k  age\n",
      "0  K0    4\n",
      "1  K0    5\n",
      "2  K3    6\n",
      "    k  age_boy  age_girl\n",
      "0  K0        1         4\n",
      "1  K0        1         5\n"
     ]
    }
   ],
   "source": [
    "###### 3-7 merge 合并\n",
    "# concat default is 'outer', ->join\n",
    "# merge default is 'inner', ->how\n",
    "# merging two df by key/keys.(may be used in database)\n",
    "left = pd.DataFrame({'key': ['K0', 'K1', 'K2', 'K3'],\n",
    "                    'A': ['A0', 'A1', 'A2', 'A3'],\n",
    "                    'B': ['B0', 'B1', 'B2', 'B3']})\n",
    "right = pd.DataFrame({'key': ['K0', 'K1', 'K2', 'K3'],\n",
    "                    'C': ['C0', 'C1', 'C2', 'C3'],\n",
    "                    'D': ['D0', 'D1', 'D2', 'D3']})\n",
    "\n",
    "print(left)\n",
    "res = pd.merge(left, right, on='key')\n",
    "print(res)\n",
    "\n",
    "# consider two keys\n",
    "left = pd.DataFrame({'key1': ['K0', 'K0', 'K1', 'K2'],\n",
    "                     'key2': ['K0', 'K1', 'K0', 'K1'],\n",
    "                    'A': ['A0', 'A1', 'A2', 'A3'],\n",
    "                    'B': ['B0', 'B1', 'B2', 'B3']})\n",
    "right = pd.DataFrame({'key1': ['K0', 'K1', 'K1', 'K2'],\n",
    "                      'key2': ['K0', 'K0', 'K0', 'K0'],\n",
    "                    'C': ['C0', 'C1', 'C2', 'C3'],\n",
    "                    'D': ['D0', 'D1', 'D2', 'D3']})\n",
    "print(left)\n",
    "print(right)\n",
    "# how =['left', 'right', 'inner', 'outer']\n",
    "res = pd.merge(left, right, on = ['key1', 'key2'], how = 'inner')\n",
    "print(res)\n",
    "\n",
    "#indicator\n",
    "print('\\n', ' indicator')\n",
    "df1 = pd.DataFrame({'col1':[0, 1], 'col_left' : ['a', 'b']})\n",
    "df2 = pd.DataFrame({'col1':[1, 2, 2], 'col_right' : [2,2,2]})\n",
    "print(df1)\n",
    "print(df2)\n",
    "res = pd.merge(df1, df2, on='col1', how = 'outer', indicator = True) # 会给一个方式，具体是怎么连接的，改名字直接indicator = '...'\n",
    "print(res)\n",
    "\n",
    "#merged by index\n",
    "print('\\n')\n",
    "print('merged by index')\n",
    "\n",
    "left = pd.DataFrame({'A': ['A0', 'A1', 'A2'],\n",
    "                    'B': ['B0', 'B1', 'B2']},\n",
    "                    index = ['K0', 'K1', 'K2'])\n",
    "\n",
    "right = pd.DataFrame({'C': ['C0', 'C2', 'C3'],\n",
    "                    'D': ['D0', 'D2', 'D3']},\n",
    "                    index =  ['K0', 'K2', 'K3'])\n",
    "print(left)\n",
    "print(right)\n",
    "res = pd.merge(left, right, left_index = True, right_index = True, how = 'outer')\n",
    "print(res)\n",
    "res = pd.merge(left, right, left_index = True, right_index = True, how = 'inner')\n",
    "print(res)\n",
    "\n",
    "# handle overlapping \n",
    "print('\\n','handle overlapping')\n",
    "boys = pd.DataFrame({'k': ['K0', 'K1', 'K2'],'age': [1, 2, 3]})\n",
    "girls = pd.DataFrame({'k': ['K0', 'K0', 'K3'],'age': [4, 5, 6]})\n",
    "\n",
    "print(boys)\n",
    "print(girls)\n",
    "\n",
    "res = pd.merge(boys, girls, on = 'k', suffixes = ['_boy', '_girl'], how = 'inner') # suffixes 后缀 用于区分\n",
    "print(res)"
   ]
  },
  {
   "cell_type": "code",
   "execution_count": 128,
   "metadata": {
    "collapsed": true
   },
   "outputs": [
    {
     "name": "stdout",
     "output_type": "stream",
     "text": [
      "          A         B         C         D\n",
      "0  0.221198 -1.712168  0.760060  0.697833\n",
      "1  0.099884 -1.780404  1.231500 -1.190236\n",
      "2  0.833358 -1.167820  0.961544 -1.390782\n",
      "3  1.447021 -0.283677  0.309964 -1.889892\n",
      "4  2.454184 -1.155924  0.525149  1.199201\n"
     ]
    },
    {
     "data": {
      "image/png": "[encoded data removed]",
      "text/plain": [
       "<Figure size 432x288 with 1 Axes>"
      ]
     },
     "metadata": {
      "needs_background": "light"
     },
     "output_type": "display_data"
    },
    {
     "data": {
      "image/png": "[encoded data removed]",
      "text/plain": [
       "<Figure size 432x288 with 1 Axes>"
      ]
     },
     "metadata": {
      "needs_background": "light"
     },
     "output_type": "display_data"
    },
    {
     "data": {
      "image/png": "[encoded data removed]",
      "text/plain": [
       "<Figure size 432x288 with 1 Axes>"
      ]
     },
     "metadata": {
      "needs_background": "light"
     },
     "output_type": "display_data"
    }
   ],
   "source": [
    "##### 3-8 pandas plot 画图\n",
    "# plot data\n",
    "\n",
    "# Series\n",
    "data = pd.Series(np.random.randn(1000), index = np.arange(1000))\n",
    "data = data.cumsum()\n",
    "\n",
    "# DataFrame\n",
    "data = pd.DataFrame(np.random.randn(1000, 4),\n",
    "                   index = np.arange(1000),\n",
    "                   columns = list(\"ABCD\"))\n",
    "data = data.cumsum()\n",
    "print(data.head())# defualt 5\n",
    "\n",
    "data.plot()\n",
    "plt.show()\n",
    "# plt.scatter(x= , y=) 打印点的\n",
    "# plot methods:\n",
    "# 'bar', 'hist', 'box', 'kde', 'area', 'scatter', 'hexbin','pie'\n",
    "ax = data.plot.scatter(x='A' , y= 'B', color = 'DarkBlue', label = 'Class 1')\n",
    "data.plot.scatter(x = 'A', y = 'C', color = 'DarkGreen', label = 'Class 2', ax=ax) #ax =ax 就是在同一坐标图下\n",
    "plt.show()"
   ]
  }
 ],
 "metadata": {
  "kernelspec": {
   "display_name": "Python 3",
   "language": "python",
   "name": "python3"
  },
  "language_info": {
   "codemirror_mode": {
    "name": "ipython",
    "version": 3
   },
   "file_extension": ".py",
   "mimetype": "text/x-python",
   "name": "python",
   "nbconvert_exporter": "python",
   "pygments_lexer": "ipython3",
   "version": "3.7.3"
  }
 },
 "nbformat": 4,
 "nbformat_minor": 2
}
