{
 "cells": [
  {
   "cell_type": "code",
   "execution_count": 10,
   "metadata": {},
   "outputs": [],
   "source": [
    "import numpy as np\n",
    "from sklearn import datasets\n",
    "from sklearn.model_selection import train_test_split\n",
    "from sklearn.neighbors import KNeighborsClassifier"
   ]
  },
  {
   "cell_type": "raw",
   "metadata": {},
   "source": [
    "train_test_split\n",
    "X_train,X_test, y_train, y_test =cross_validation.train_test_split(train_data,train_target,test_size=0.3, random_state=0)\n",
    " \n",
    "参数解释：\n",
    "train_data：被划分的样本特征集\n",
    "train_target：被划分的样本标签\n",
    "test_size：如果是浮点数，在0-1之间，表示样本占比；如果是整数的话就是样本的数量\n",
    "random_state：是随机数的种子。\n",
    "stratify : 是为了保持split前类的分布。\n",
    "\n",
    "随机数种子：其实就是该组随机数的编号，在需要重复试验的时候，保证得到一组一样的随机数。比如你每次都填1，其他参数一样的情况下你得到的随机数组是一样的。但填0或不填，每次都会不一样。\n",
    "随机数的产生取决于种子，随机数和种子之间的关系遵从以下两个规则：\n",
    "种子不同，产生不同的随机数；种子相同，即使实例不同也产生相同的随机数。\n",
    "示例"
   ]
  },
  {
   "cell_type": "code",
   "execution_count": 11,
   "metadata": {
    "collapsed": true
   },
   "outputs": [
    {
     "name": "stdout",
     "output_type": "stream",
     "text": [
      "[1 2 2 2 2 2 0 0 2 0 0 2 0 0 0 1 0 1 0 0 1 2 0 0 0 2 2 0 2 0 0 1 1 0 1 1 0\n",
      " 0 1 2 0 0 0 0 1]\n",
      "[1 2 2 2 1 2 0 0 1 0 0 2 0 0 0 1 0 1 0 0 1 2 0 0 0 2 2 0 2 0 0 1 1 0 1 1 0\n",
      " 0 1 2 0 0 0 0 1]\n"
     ]
    }
   ],
   "source": [
    "# 4 sklearn通用的学习模式\n",
    "iris = datasets.load_iris()\n",
    "iris_X = iris.data\n",
    "iris_y = iris.target # 类别\n",
    "\n",
    "X_train, X_test, y_train, y_test = train_test_split(\n",
    "    iris_X, iris_y, test_size = 0.3) # 比例0.3\n",
    "# print(y_train) # 打乱了比例\n",
    "\n",
    "knn = KNeighborsClassifier()\n",
    "knn.fit(X_train, y_train)\n",
    "print(knn.predict(X_test))\n",
    "print(y_test)"
   ]
  },
  {
   "cell_type": "code",
   "execution_count": 19,
   "metadata": {
    "collapsed": true
   },
   "outputs": [
    {
     "data": {
      "image/png": "[encoded data removed]",
      "text/plain": [
       "<Figure size 432x288 with 1 Axes>"
      ]
     },
     "metadata": {
      "needs_background": "light"
     },
     "output_type": "display_data"
    }
   ],
   "source": [
    "#  5 sklearn 的datasets 的数据库\n",
    "from sklearn import datasets\n",
    "from sklearn.linear_model import LinearRegression\n",
    "import matplotlib.pyplot as plt\n",
    "\n",
    "# loaded_data = datasets.load_boston()\n",
    "# data_X = loaded_data.data\n",
    "# data_y = loaded_data.target\n",
    "\n",
    "# model = LinearRegression()\n",
    "# model.fit(data_X, data_y)\n",
    "\n",
    "# print(model.predict(data_X[:4, :])) # 前4个数据 进行预测\n",
    "# print(data_y[:4])\n",
    "X, y = datasets.make_regression(n_samples = 100, n_features = 1, n_targets = 1, noise = 20) #noise 加大就会离散一点\n",
    "plt.scatter(X, y)\n",
    "plt.show()"
   ]
  },
  {
   "cell_type": "code",
   "execution_count": 60,
   "metadata": {},
   "outputs": [
    {
     "name": "stdout",
     "output_type": "stream",
     "text": [
      "[-1.08011358e-01  4.64204584e-02  2.05586264e-02  2.68673382e+00\n",
      " -1.77666112e+01  3.80986521e+00  6.92224640e-04 -1.47556685e+00\n",
      "  3.06049479e-01 -1.23345939e-02 -9.52747232e-01  9.31168327e-03\n",
      " -5.24758378e-01]\n",
      "36.459488385089855\n",
      "{'copy_X': True, 'fit_intercept': True, 'n_jobs': None, 'normalize': False}\n",
      "0.7406426641094095\n"
     ]
    }
   ],
   "source": [
    "# 6 model 常用属性和功能\n",
    "from sklearn import datasets\n",
    "from sklearn.linear_model import LinearRegression\n",
    "\n",
    "loaded_data = datasets.load_boston()\n",
    "data_X = loaded_data.data\n",
    "data_y = loaded_data.target\n",
    "\n",
    "model = LinearRegression()\n",
    "model.fit(data_X, data_y)\n",
    "\n",
    "# print(model.predict(data_X[:4, :]))\n",
    "# print(data_y[:4])\n",
    "print(model.coef_) # y = 0.1x + 0.3 就是输出0.3\n",
    "print(model.intercept_) #就会输出0.3这个东西\n",
    "print(model.get_params()) #定义了什么参数\n",
    "print(model.score(data_X, data_y)) # R^2, coefficient of determination R^2 可决系数 精确度输出结果\n",
    "\n"
   ]
  },
  {
   "cell_type": "code",
   "execution_count": 37,
   "metadata": {
    "scrolled": true
   },
   "outputs": [
    {
     "name": "stdout",
     "output_type": "stream",
     "text": [
      "0.9555555555555556\n"
     ]
    },
    {
     "name": "stderr",
     "output_type": "stream",
     "text": [
      "/anaconda3/lib/python3.7/site-packages/sklearn/svm/base.py:196: FutureWarning: The default value of gamma will change from 'auto' to 'scale' in version 0.22 to account better for unscaled features. Set gamma explicitly to 'auto' or 'scale' to avoid this warning.\n",
      "  \"avoid this warning.\", FutureWarning)\n"
     ]
    }
   ],
   "source": [
    "# 7 normalization 标准化数据\n",
    "from sklearn import preprocessing\n",
    "import numpy as np\n",
    "\n",
    "from sklearn.model_selection import train_test_split\n",
    "from sklearn.datasets.samples_generator import make_classification\n",
    "from sklearn.svm import SVC\n",
    "import matplotlib.pyplot as plt\n",
    "\n",
    "# a = np.array([[10, 2.7, 3.6],\n",
    "#             [-100, 5, -2],\n",
    "#             [120, 20, 40]], dtype = np.float64)\n",
    "# print(a)\n",
    "# print(preprocessing.scale(a)) # 就是标准化，差不多的取值范围\n",
    "X, y = make_classification(n_samples = 300, n_features = 2, n_redundant = 0, n_informative = 2,\n",
    "                          random_state = 22, n_clusters_per_class = 1, scale = 100) # 300个data, 2个属性，2个比较相关的data的属性，随机产生的data一样的\n",
    "# plt.scatter(X[:, 0], X[:, 1], c=y)\n",
    "# plt.show()\n",
    "\n",
    "#X = preprocessing.minmax_scale(X, feature_range = (-1, 1))#压缩到-1 到1\n",
    "\n",
    "X = preprocessing.scale(X) # 归一化 如果有这一行的话， score就会很高\n",
    "X_train, X_test, y_train, y_test = train_test_split(X, y, test_size = .3)\n",
    "clf = SVC()\n",
    "clf.fit(X_train, y_train) # 学习\n",
    "print(clf.score(X_test, y_test))"
   ]
  },
  {
   "cell_type": "code",
   "execution_count": 53,
   "metadata": {
    "collapsed": true
   },
   "outputs": [
    {
     "data": {
      "image/png": "[encoded data removed]",
      "text/plain": [
       "<Figure size 432x288 with 1 Axes>"
      ]
     },
     "metadata": {
      "needs_background": "light"
     },
     "output_type": "display_data"
    }
   ],
   "source": [
    "# 8 cross-validation交叉验证\n",
    "from sklearn.datasets import load_iris\n",
    "from sklearn.model_selection import train_test_split\n",
    "from sklearn.neighbors import KNeighborsClassifier\n",
    "\n",
    "iris = load_iris()\n",
    "X = iris.data\n",
    "y = iris.target\n",
    "\n",
    "# X_train, X_test, y_train, y_test = train_test_split(X, y, random_state = 4)\n",
    "# knn = KNeighborsClassifier(n_neighbors = 5) # 考虑附近的5个， k值\n",
    "# knn.fit(X_train, y_train)\n",
    "# print(knn.score(X_test, y_test))\n",
    "\n",
    "from sklearn.model_selection import cross_val_score #得分\n",
    "# knn = KNeighborsClassifier(n_neighbors = 5)\n",
    "# scores = cross_val_score(knn, X, y, cv = 5, scoring = 'accuracy') #用这种成绩，x y 会被分成5组 然后平均\n",
    "# print(scores.mean())\n",
    "\n",
    "import matplotlib.pyplot as plt\n",
    "k_range = range(1, 31)\n",
    "k_scores = []\n",
    "\n",
    "for k in k_range:\n",
    "    knn = KNeighborsClassifier(n_neighbors = k)\n",
    "#    scores = cross_val_score(knn, X, y, cv = 10, scoring = 'accuracy') # for classification\n",
    "    loss = -cross_val_score(knn, X, y, cv = 10, scoring = 'neg_mean_squared_error') # for regression\n",
    "#     k_scores.append(scores.mean())\n",
    "    k_scores.append(loss.mean())\n",
    "    \n",
    "plt.plot(k_range, k_scores)\n",
    "plt.xlabel('Value of K for KNN')\n",
    "plt.ylabel('Cross-Validated Accuracy')\n",
    "plt.show()\n"
   ]
  },
  {
   "cell_type": "code",
   "execution_count": 56,
   "metadata": {
    "collapsed": true
   },
   "outputs": [
    {
     "data": {
      "image/png": "[encoded data removed]",
      "text/plain": [
       "<Figure size 432x288 with 1 Axes>"
      ]
     },
     "metadata": {
      "needs_background": "light"
     },
     "output_type": "display_data"
    }
   ],
   "source": [
    "# overfitting 9 交叉验证 2\n",
    "#过于纠结准确度\n",
    "from sklearn.model_selection import learning_curve\n",
    "from sklearn.datasets import load_digits\n",
    "from sklearn.svm import SVC\n",
    "import matplotlib.pyplot as plt\n",
    "import numpy as np\n",
    "\n",
    "digits = load_digits()\n",
    "X = digits.data\n",
    "y = digits.target\n",
    "\n",
    "train_sizes, train_loss, test_loss = learning_curve(\n",
    "    SVC(gamma = 0.001), X, y, cv = 10, scoring = 'neg_mean_squared_error',\n",
    "    train_sizes = [0.1, 0.25, 0.5, 0.75, 1])\n",
    "train_loss_mean = -np.mean(train_loss, axis = 1)\n",
    "test_loss_mean = -np.mean(test_loss, axis = 1)\n",
    "\n",
    "plt.plot(train_sizes, train_loss_mean,'o-', color ='r', # 学习的每一步 size, 学习每一步对应的值 mean value\n",
    "        label = \"Training\")\n",
    "plt.plot(train_sizes, test_loss_mean, 'o-', color = 'g',\n",
    "        label = \"Cross-validation\")\n",
    "\n",
    "plt.xlabel(\"Training examples\")\n",
    "plt.ylabel(\"Loss\")\n",
    "plt.legend(loc = \"best\")\n",
    "plt.show()"
   ]
  },
  {
   "cell_type": "code",
   "execution_count": 58,
   "metadata": {},
   "outputs": [
    {
     "ename": "SyntaxError",
     "evalue": "invalid character in identifier (<ipython-input-58-09e51d2ff130>, line 14)",
     "output_type": "error",
     "traceback": [
      "\u001b[0;36m  File \u001b[0;32m\"<ipython-input-58-09e51d2ff130>\"\u001b[0;36m, line \u001b[0;32m14\u001b[0m\n\u001b[0;31m    SVC(), X, y, param_name = 'gamma'，param_range = param_range, cv = 10, scoring = 'neg_mean_squared_error')\u001b[0m\n\u001b[0m                                                ^\u001b[0m\n\u001b[0;31mSyntaxError\u001b[0m\u001b[0;31m:\u001b[0m invalid character in identifier\n"
     ]
    }
   ],
   "source": [
    "# 10 交叉验证3\n",
    "from sklearn.model_selection import validation_curve\n",
    "from sklearn.datasets import load_digits\n",
    "from sklearn.svm import SVC\n",
    "import matplotlib.pyplot as plt\n",
    "import numpy as np\n",
    "\n",
    "digits = load_digits()\n",
    "X = digits.data\n",
    "y = digits.target\n",
    "param_range = np.logspace(-6, -2.3, 5)#在这个范围取5个点进行拟合\n",
    "\n",
    "train_loss, test_loss = validation_curve(\n",
    "    SVC(), X, y, param_name = 'gamma'，param_range = param_range, cv = 10, scoring = 'neg_mean_squared_error')\n",
    "train_loss_mean = -np.mean(train_loss, axis = 1)\n",
    "test_loss_mean = -np.mean(test_loss, axis = 1)\n",
    "\n",
    "plt.plot(param_range, train_loss_mean,'o-', color ='r', # 学习的每一步 size, 学习每一步对应的值 mean value\n",
    "        label = \"Training\")\n",
    "plt.plot(param_range, test_loss_mean, 'o-', color = 'g',\n",
    "        label = \"Cross-validation\")\n",
    "\n",
    "plt.xlabel(\"gamma\")\n",
    "plt.ylabel(\"Loss\")\n",
    "plt.legend(loc = \"best\")\n",
    "plt.show()"
   ]
  },
  {
   "cell_type": "code",
   "execution_count": null,
   "metadata": {},
   "outputs": [],
   "source": []
  }
 ],
 "metadata": {
  "kernelspec": {
   "display_name": "Python 3",
   "language": "python",
   "name": "python3"
  },
  "language_info": {
   "codemirror_mode": {
    "name": "ipython",
    "version": 3
   },
   "file_extension": ".py",
   "mimetype": "text/x-python",
   "name": "python",
   "nbconvert_exporter": "python",
   "pygments_lexer": "ipython3",
   "version": "3.7.1"
  }
 },
 "nbformat": 4,
 "nbformat_minor": 2
}
